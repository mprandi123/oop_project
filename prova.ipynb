{
 "cells": [
  {
   "cell_type": "code",
   "execution_count": 21,
   "metadata": {},
   "outputs": [
    {
     "ename": "TypeError",
     "evalue": "tuple expected at most 1 argument, got 2",
     "output_type": "error",
     "traceback": [
      "\u001b[0;31m---------------------------------------------------------------------------\u001b[0m",
      "\u001b[0;31mTypeError\u001b[0m                                 Traceback (most recent call last)",
      "\u001b[0;32m/var/folders/8y/z0w3hmm12dd_0_bwcyc78ydm0000gn/T/ipykernel_30503/1359514380.py\u001b[0m in \u001b[0;36m<module>\u001b[0;34m\u001b[0m\n\u001b[1;32m      3\u001b[0m                   \u001b[0;34m{\u001b[0m\u001b[0;34m'id'\u001b[0m\u001b[0;34m:\u001b[0m \u001b[0;34m'203899238'\u001b[0m\u001b[0;34m,\u001b[0m \u001b[0;34m'platform'\u001b[0m\u001b[0;34m:\u001b[0m \u001b[0;34m'mt4'\u001b[0m\u001b[0;34m,\u001b[0m \u001b[0;34m'type'\u001b[0m\u001b[0;34m:\u001b[0m \u001b[0;34m'POSITION_TYPE_BUY'\u001b[0m\u001b[0;34m,\u001b[0m \u001b[0;34m'symbol'\u001b[0m\u001b[0;34m:\u001b[0m \u001b[0;34m'NZDUSD'\u001b[0m\u001b[0;34m,\u001b[0m \u001b[0;34m'magic'\u001b[0m\u001b[0;34m:\u001b[0m \u001b[0;36m0\u001b[0m\u001b[0;34m,\u001b[0m \u001b[0;34m'openPrice'\u001b[0m\u001b[0;34m:\u001b[0m \u001b[0;36m0.58929\u001b[0m\u001b[0;34m,\u001b[0m \u001b[0;34m'volume'\u001b[0m\u001b[0;34m:\u001b[0m \u001b[0;36m0.65\u001b[0m\u001b[0;34m,\u001b[0m \u001b[0;34m'swap'\u001b[0m\u001b[0;34m:\u001b[0m \u001b[0;36m0\u001b[0m\u001b[0;34m,\u001b[0m \u001b[0;34m'realizedSwap'\u001b[0m\u001b[0;34m:\u001b[0m \u001b[0;36m0\u001b[0m\u001b[0;34m,\u001b[0m \u001b[0;34m'unrealizedSwap'\u001b[0m\u001b[0;34m:\u001b[0m \u001b[0;36m0\u001b[0m\u001b[0;34m,\u001b[0m \u001b[0;34m'commission'\u001b[0m\u001b[0;34m:\u001b[0m \u001b[0;36m0\u001b[0m\u001b[0;34m}\u001b[0m\u001b[0;34m\u001b[0m\u001b[0;34m\u001b[0m\u001b[0m\n\u001b[1;32m      4\u001b[0m                   ]\n\u001b[0;32m----> 5\u001b[0;31m \u001b[0mposition_A\u001b[0m \u001b[0;34m=\u001b[0m \u001b[0mtuple\u001b[0m\u001b[0;34m(\u001b[0m\u001b[0;34m\"CADCHF\"\u001b[0m\u001b[0;34m,\u001b[0m \u001b[0;36m0.65756\u001b[0m\u001b[0;34m)\u001b[0m\u001b[0;34m\u001b[0m\u001b[0;34m\u001b[0m\u001b[0m\n\u001b[0m",
      "\u001b[0;31mTypeError\u001b[0m: tuple expected at most 1 argument, got 2"
     ]
    }
   ],
   "source": [
    "open_positions = [{'id': '203899167', 'platform': 'mt4', 'type': 'POSITION_TYPE_SELL', 'symbol': 'AUDCHF', 'magic': 0, 'openPrice': 0.57257, 'volume': 0.65, 'swap': 0, 'realizedSwap': 0, 'unrealizedSwap': 0, 'commission': 0}, \n",
    "                  {'id': '203899207', 'platform': 'mt4', 'type': 'POSITION_TYPE_BUY', 'symbol': 'CADCHF', 'magic': 0, 'openPrice': 0.65756, 'volume': 0.65, 'swap': 0, 'realizedSwap': 0, 'unrealizedSwap': 0, 'commission': 0}, \n",
    "                  {'id': '203899238', 'platform': 'mt4', 'type': 'POSITION_TYPE_BUY', 'symbol': 'NZDUSD', 'magic': 0, 'openPrice': 0.58929, 'volume': 0.65, 'swap': 0, 'realizedSwap': 0, 'unrealizedSwap': 0, 'commission': 0}\n",
    "                  ]\n",
    "position_A = tuple(\"CADCHF\", 0.65756)"
   ]
  },
  {
   "cell_type": "code",
   "execution_count": 3,
   "metadata": {},
   "outputs": [],
   "source": [
    "#ho una lista contente dizionari. \n",
    "#scelgo solo il dizionario avente currency_pair e open_price = ai miei;\n",
    "#da questo estraggo il value corrispondente all'id\n",
    "\n",
    "id = []\n",
    "for open_position in open_positions:\n",
    "    [open_position[\"id\"].value() for open_position[\"symbol\"] == currency_pair & open_position[\"openPrice\"] == opening_price]"
   ]
  },
  {
   "cell_type": "code",
   "execution_count": 18,
   "metadata": {},
   "outputs": [
    {
     "name": "stdout",
     "output_type": "stream",
     "text": [
      "USDCAD 1.35721\n",
      "EURUSD 1.0847\n",
      "EURUSD 1.0885\n",
      "NZDUSD 0.5965\n",
      "EURUSD 1.106\n"
     ]
    }
   ],
   "source": [
    "import re\n",
    "\n",
    "# Messaggio di esempio\n",
    "messaggio = \"📊EUR/USD - NZD/USD  - USD/CAD\\n\\nCHIUDERE MANUALMENTE CINQUE POSIZIONI DI CUI:\\n\\nUNA IN PROFITTO su USD/CAD (1.35721) +\\nUNA IN PROFITTO su EUR/USD (1.08470) +\\nUNA IN PROFITTO su EUR/USD (1.08850) +\\nUNA IN PROFITTO su NZD/USD (0.59650) +\\nuna in perdita su EUR/USD (1.10600)\\n\\nTOTALE IN PROFITTO ✅✅✅\"\n",
    "\n",
    "# Definisci il modello regex per le coppie di valute e i prezzi\n",
    "pattern = r\"(\\w+)/(\\w+)\\s+\\(([\\d.]+)\\)\"\n",
    "\n",
    "# Trova tutte le corrispondenze nel messaggio\n",
    "corrispondenze = re.findall(pattern, messaggio)\n",
    "\n",
    "# Estrai le coppie di valute e i prezzi\n",
    "coppie_valute_e_prezzi = tuple([(match[0] + match[1], float(match[2])) for match in corrispondenze])\n",
    "\n",
    "# Stampare le coppie di valute e i prezzi estratti\n",
    "for coppia, prezzo in coppie_valute_e_prezzi:\n",
    "    print(coppia, prezzo)"
   ]
  }
 ],
 "metadata": {
  "kernelspec": {
   "display_name": "base",
   "language": "python",
   "name": "python3"
  },
  "language_info": {
   "codemirror_mode": {
    "name": "ipython",
    "version": 3
   },
   "file_extension": ".py",
   "mimetype": "text/x-python",
   "name": "python",
   "nbconvert_exporter": "python",
   "pygments_lexer": "ipython3",
   "version": "3.9.13"
  },
  "orig_nbformat": 4
 },
 "nbformat": 4,
 "nbformat_minor": 2
}
